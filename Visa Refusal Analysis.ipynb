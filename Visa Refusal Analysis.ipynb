{
 "cells": [
  {
   "cell_type": "code",
   "execution_count": 1,
   "metadata": {
    "collapsed": false
   },
   "outputs": [],
   "source": [
    "import PyPDF2\n",
    "from PyPDF2 import PdfFileReader as r\n",
    "import pycountry\n",
    "\n",
    "# File names\n",
    "file_names = ['FY' + str(num).zfill(2) + '.pdf' for num in range(6, 17)]\n",
    "\n",
    "# get text\n",
    "def get_page_text(file_name, pageno=0):\n",
    "    if (pageno <= 0):\n",
    "        raise ValueError(\"Page number can't neither be negative nor zero\")\n",
    "    \n",
    "    pageno -= 1\n",
    "    \n",
    "    pdf = r(open(file_name, 'rb'))\n",
    "    \n",
    "    if (pageno > pdf.numPages): raise ValueError(\"Page index can't be bigger than number of pages\")\n",
    "    \n",
    "    return pdf.getPage(pageno).extractText()\n",
    "\n",
    "# Gets all text from a pdf \n",
    "def get_all_text(file_name):\n",
    "    \n",
    "    # Opens a file\n",
    "    pdf = r(open(file_name, 'rb'))\n",
    "    \n",
    "    # Read all of the texts\n",
    "    txt = ''.join(\n",
    "        text for text in \n",
    "        [\n",
    "            pdf.getPage(num).extractText()\n",
    "            for num in range(pdf.numPages)\n",
    "        ]\n",
    "    )\n",
    "    \n",
    "    return txt"
   ]
  },
  {
   "cell_type": "code",
   "execution_count": null,
   "metadata": {
    "collapsed": false
   },
   "outputs": [],
   "source": [
    "# TODO: Replace country names to international form St. to Saint\n",
    "\n",
    "\n",
    "\n",
    "txt_list = [txt.split('\\n') for txt in get_all_text(file_names[0]).split('%\\n')]\n",
    "\n",
    "# Adding first element\n",
    "refusal_rates = [{\n",
    "        \"country\" : pycountry.countries.get(name=txt_list[0][-2]),\n",
    "        \"rate\" : float(txt_list[0][-1])\n",
    "    }]\n",
    "\n",
    "\n",
    "# Interface for pycountry\n",
    "def get_country(c):\n",
    "    return pycountry.countries.get(name=c)\n",
    "\n",
    "# Gets country name\n",
    "def country_name(name):\n",
    "    name = name.replace(\n",
    "        'St.', 'Saint').replace(\n",
    "        '-', ' and ').replace(\n",
    "        'Burma', 'Myanmar').replace(\n",
    "        'Cape Verde', 'Cabo Verde').replace(\n",
    "        'British Virgin Islands', 'Virgin Islands, British'\n",
    "    ).replace('Federated States of Micronesia', 'Micronesia, Federated States of').replace('Hong Kong S. A. R.', 'Hong Kong').replace(\n",
    "        'East Timor', 'Timor-Leste'\n",
    "    ).replace('China - Mainland', 'China')\n",
    "    \n",
    "    # Remove parenthesis\n",
    "    if '(' in name or '-' in name:\n",
    "        name = name.split(' ')[0]\n",
    "        \n",
    "        \n",
    "    try:\n",
    "        return get_country(name)\n",
    "    except:\n",
    "        name = ''.join(c.name for c in list(pycountry.countries) if name in c.name)\n",
    "        try:\n",
    "            return get_country(name)\n",
    "        except:\n",
    "            return None\n",
    "    return None\n",
    "    \n",
    "    \n",
    "\n",
    "# print(get_country_rate(txt_list[0]))\n",
    "\n",
    "for i, item in enumerate(txt_list):\n",
    "    # If FISCAL YEAR in an item, get the last element from the list item\n",
    "#     print(\"{} - {}\".format(country_name(item[0]), i))\n",
    "    print(item)\n"
   ]
  },
  {
   "cell_type": "code",
   "execution_count": null,
   "metadata": {
    "collapsed": false
   },
   "outputs": [],
   "source": [
    "txt_list[47]"
   ]
  },
  {
   "cell_type": "code",
   "execution_count": 3,
   "metadata": {
    "collapsed": false
   },
   "outputs": [],
   "source": [
    "import json\n",
    "import requests\n"
   ]
  },
  {
   "cell_type": "code",
   "execution_count": 73,
   "metadata": {
    "collapsed": false
   },
   "outputs": [],
   "source": [
    "# replace - with space-space\n",
    "# replace korea with - Democratic People's Republic of Korea\n",
    "# replace British Virgin Islands with Virgin Islands (British)\n",
    "# replace Hong Kong gibberish with Hong Kong and aggregate the rates\n",
    "# Add a placeholder for Jerusalem - Capital of Israel\n",
    "# Convert laos to Lao\n",
    "# Convert Macau to Macao\n",
    "# Convert Macedonia to Republic of Macedonia\n",
    "# Convert Tanzania to Republic of Tanzania\n",
    "# Convert North Korea to Democratic People's Republic of Korea\n",
    "# Convert South Korea to Republic of Korea\n",
    "# Convert Zaire to Congo-Kinshasa\n",
    "# Convert British Virgin Islands to Virgin Islands (British) \n",
    "# Replace St. with Saint\n",
    "# Convert Syria to Syrian Arab Republic\n",
    "# Convert Macedonia to Republic of Macedonia\n",
    "# Convert Great Britain and Northern Ireland to United Kingdom of Great Britain and Northern Ireland\n",
    "# Convert Central African to Central African Republic\n",
    "# Convert Venezuela to Bolivarian Republic of Venezuela\n",
    "# Convert Serbia and montenegro to Serbia\n",
    "# Convert Brunei to Nation of Brunei\n",
    "# Convert Kosovo to Republic of Kosovo\n",
    "# Convert Wallis and futuna islands to Wallis and Futuna\n",
    "# Convert Hong Kong S.A.R to Hong Kong\n",
    "# Convert Vatican City to Holy See\n",
    "# Convert Iran to Islamic Republic of Iran\n",
    "# Convert Guinea - bissau to Guinea-Bissau\n",
    "# Convert Netherlands antilles to Curacao\n",
    "\n",
    "def return_response(country):\n",
    "    req_url = 'https://restcountries.eu/rest/v2/name/'+ country +'?fullText=true'\n",
    "    return json.loads(requests.get(req_url).text)"
   ]
  },
  {
   "cell_type": "code",
   "execution_count": 18,
   "metadata": {
    "collapsed": false
   },
   "outputs": [],
   "source": [
    "txt_list2 = [txt.split('\\n') for txt in get_all_text(file_names[0]).split('%\\n')]\n",
    "\n",
    "\n",
    "error_names_l2 = []\n",
    "\n",
    "for i, item in enumerate(txt_list2):\n",
    "#     print(\"Doing job {}\".format(i + 1))\n",
    "    if (type(return_response(item[0])) != list):\n",
    "        error_names_l2.append(item[0])"
   ]
  },
  {
   "cell_type": "code",
   "execution_count": 39,
   "metadata": {
    "collapsed": true
   },
   "outputs": [],
   "source": [
    "txt_list_all = [\n",
    "    \n",
    "]\n",
    "\n",
    "names_all = []\n",
    "\n",
    "for i in range(0, len(file_names)):\n",
    "    txt_list_all.append([txt.split('\\n') for txt in get_all_text(file_names[i]).split('%\\n')])\n",
    "\n",
    "for item in txt_list_all:\n",
    "    for i, itm in enumerate(item):\n",
    "        names_all.append(itm[0])\n",
    "        \n",
    "names_all = list(name.capitalize() for name in set(names_all))"
   ]
  },
  {
   "cell_type": "code",
   "execution_count": 46,
   "metadata": {
    "collapsed": false,
    "scrolled": true
   },
   "outputs": [
    {
     "name": "stdout",
     "output_type": "stream",
     "text": [
      "Dominica\n"
     ]
    }
   ],
   "source": [
    "names_all = names_all[1:]\n",
    "\n",
    "\n"
   ]
  },
  {
   "cell_type": "code",
   "execution_count": 47,
   "metadata": {
    "collapsed": true
   },
   "outputs": [],
   "source": [
    "error_names = []\n",
    "for i, name in enumerate(names_all):\n",
    "    if (type(return_response(name))!=list):\n",
    "        error_names.append(name)\n",
    "#     print(name)\n",
    "#     print(return_response(name))"
   ]
  },
  {
   "cell_type": "code",
   "execution_count": 49,
   "metadata": {
    "collapsed": false
   },
   "outputs": [
    {
     "data": {
      "text/plain": [
       "114"
      ]
     },
     "execution_count": 49,
     "metadata": {},
     "output_type": "execute_result"
    }
   ],
   "source": [
    "# for i in error_names:\n",
    "#     print(i)\n",
    "    \n",
    "len(error_names)"
   ]
  },
  {
   "cell_type": "code",
   "execution_count": 51,
   "metadata": {
    "collapsed": false
   },
   "outputs": [
    {
     "name": "stdout",
     "output_type": "stream",
     "text": [
      "United nations laissez-passer\n",
      "Tanzania\n",
      "Peoples republic of korea - north korea\n",
      "Zaire\n",
      "Page 3 of 6\n",
      "British virgin islands\n",
      "Unknown nationality or stateless\n",
      "St. vincent and the grenadines\n",
      "2\n",
      "Unknown nationality or stateless\n",
      "St. vincent and the grenadines\n",
      "Syria\n",
      "Macedonia\n",
      "Great britain and northern ireland\n",
      "Central african \n",
      "St. kitts and nevis\n",
      "Venezuela\n",
      "Page 4 of 6\n",
      "Serbia and montenegro\n",
      "St. lucia\n",
      "Brunei\n",
      "Kosovo\n",
      "Wallis and futuna islands\n",
      "Macedonia\n",
      "Hong kong s. a. r.\n",
      "Adjusted refusal rate - b-visas \n",
      "Page 1 of 6\n",
      "Country \n",
      "1\n",
      "Page 2 of 5\n",
      "Guinea - bissau\n",
      "Serbia and montenegro\n",
      "Iran\n",
      "Hong kong (bno hk passport)\n",
      "Vatican city\n",
      "Netherlands antilles\n",
      "Laos\n",
      "Vietnam\n",
      "Page 3 of 5\n",
      "Page 5 of 6\n",
      "Congo (brazzaville)\n",
      "Gambia, the\n",
      "*serbia and montenegro - bearers of serbia and \n",
      "Republic of the \n",
      "Serbia and montenegro\n",
      "Palestinian authority \n",
      "Great britain and northern ireland\n",
      "Serbia and \n",
      "*fy2016 data are preliminary\n",
      "Data must be read in conjunction with the explanatory notes.\n",
      "China - mainland\n",
      "Great britain and \n",
      "*serbia and montenegro - bearers of \n",
      "Unknown nationality or \n",
      "Cape verde\n",
      "Moldova\n",
      "Serbia and montenegro*\n",
      "St lucia\n",
      "Moldova\n",
      "St. helena\n",
      "Hong kong (bno hk \n",
      "Palestinian authority travel document\n",
      "Palestinian authority travel document\n",
      "Vatican city\n",
      "Venezuela\n",
      "Cape verde\n",
      "Palestinian authority\n",
      "Macau s.a.r.\n",
      "Page 1 of 5\n",
      "Bolivia\n",
      "Great britain and northern ireland\n",
      "Pitcairn islands\n",
      "Russia\n",
      "Palestinian authority\n",
      "The bahamas\n",
      "The gambia\n",
      "South korea\n",
      "Bolivia\n",
      "Tanzania\n",
      "Korea, south\n",
      "Unknown place of birth or stateless\n",
      "The gambia\n",
      "Macau s.a.r.\n",
      "Macau s. a. r.\n",
      "United state of america\n",
      "Brunei\n",
      "Mexico \n",
      "Peoples republic of korea - north korea\n",
      "Vietnam\n",
      "Guinea - bissau\n",
      "Cote d`ivoire\n",
      "Serbia    \n",
      "Hong kong (bno hk passport)\n",
      "Hong kong s. a. r.\n",
      "Kosovo\n",
      "China - taiwan\n",
      "Korea, north\n",
      "Federated states of \n",
      "Unknown nationality or stateless\n",
      "Russia\n",
      "Peoples republic of \n",
      "Cote d`ivoire\n",
      "Page 2 of 6\n",
      "Adjusted refusal rate - b-visas only\n",
      "Jerusalem\n",
      "Page 5 of 5\n",
      "Congo (kinshasa)\n",
      "Bahamas, the\n",
      "St vincent and the grenadines\n",
      "Iran\n",
      "Page 4 of 5\n",
      "Laos\n",
      "Syria\n",
      "St. kitts and nevis\n"
     ]
    }
   ],
   "source": [
    "for name in error_names: print (name)"
   ]
  },
  {
   "cell_type": "code",
   "execution_count": null,
   "metadata": {
    "collapsed": true
   },
   "outputs": [],
   "source": []
  }
 ],
 "metadata": {
  "anaconda-cloud": {},
  "kernelspec": {
   "display_name": "Python [Root]",
   "language": "python",
   "name": "Python [Root]"
  },
  "language_info": {
   "codemirror_mode": {
    "name": "ipython",
    "version": 3
   },
   "file_extension": ".py",
   "mimetype": "text/x-python",
   "name": "python",
   "nbconvert_exporter": "python",
   "pygments_lexer": "ipython3",
   "version": "3.5.2"
  }
 },
 "nbformat": 4,
 "nbformat_minor": 0
}
